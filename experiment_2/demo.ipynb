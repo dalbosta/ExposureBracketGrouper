{
 "cells": [
  {
   "metadata": {
    "ExecuteTime": {
     "end_time": "2025-04-10T16:47:30.720962Z",
     "start_time": "2025-04-10T16:47:30.712627Z"
    }
   },
   "cell_type": "code",
   "source": [
    "import os\n",
    "import sys\n",
    "import time\n",
    "import logging\n",
    "import random\n",
    "import numpy as np\n",
    "import matplotlib.pyplot as plt\n",
    "from pathlib import Path\n",
    "from IPython.display import display, HTML\n",
    "from typing import List, Dict, Tuple, Optional, Union, Any\n",
    "\n",
    "# Configure logging\n",
    "logging.basicConfig(\n",
    "    level=logging.INFO,\n",
    "    format='%(asctime)s - %(name)s - %(levelname)s - %(message)s'\n",
    ")\n",
    "logger = logging.getLogger('hdr_grouping_demo')\n",
    "\n",
    "# Import our pipeline modules\n",
    "from ingest import ImageIngestor\n",
    "from embedding import SceneEmbedder\n",
    "from clustering import SceneClusterer\n",
    "from exposure_sorting import ExposureSorter\n",
    "from validation import ClusterValidator\n",
    "from output import ResultsExporter\n",
    "from utils import estimate_exposure_value, normalize_image_size, enhance_local_contrast\n",
    "\n",
    "# Set matplotlib parameters for better visualization\n",
    "plt.rcParams['figure.figsize'] = (15, 10)\n",
    "plt.rcParams['figure.dpi'] = 100"
   ],
   "id": "40d31a45de9e643b",
   "outputs": [],
   "execution_count": 2
  },
  {
   "metadata": {},
   "cell_type": "markdown",
   "source": "## Config",
   "id": "761c6ecec37e9110"
  },
  {
   "metadata": {
    "ExecuteTime": {
     "end_time": "2025-04-10T16:48:49.365795Z",
     "start_time": "2025-04-10T16:48:49.356803Z"
    }
   },
   "cell_type": "code",
   "source": [
    "config = {\n",
    "    'ingest': {\n",
    "        'target_size': (512, 512),\n",
    "        'max_workers': 16\n",
    "    },\n",
    "    'embedding': {\n",
    "        'model_name': \"facebook/dinov2-small\",  # Can be changed to a lighter model if needed\n",
    "        'use_gpu': True,\n",
    "        'use_traditional_features': True,\n",
    "        'dimensionality_reduction': \"pca\",\n",
    "        'target_dims': 128,\n",
    "        'cache_dir': \"./embedding_cache\",  # Cache embeddings for faster re-runs\n",
    "        'max_workers': 2\n",
    "    },\n",
    "    'clustering': {\n",
    "        'min_cluster_size': 2,\n",
    "        'min_samples': 1,\n",
    "        'cluster_selection_epsilon': 0.1,\n",
    "        'metric': 'cosine',\n",
    "        'cluster_selection_method': 'leaf'\n",
    "    },\n",
    "    'exposure_sorting': {\n",
    "        'ssim_threshold': 0.7,\n",
    "        'hash_threshold': 10,\n",
    "        'min_ev_difference': 0.3\n",
    "    },\n",
    "    'validation': {\n",
    "        'similarity_threshold': 0.7,\n",
    "        'min_hdr_score': 0.4,\n",
    "        'geometry_threshold': 0.6,\n",
    "        'min_cluster_size': 2,\n",
    "        'max_cluster_size': 20\n",
    "    },\n",
    "    'output': {\n",
    "        'create_thumbnails': True,\n",
    "        'thumbnail_size': (256, 256),\n",
    "        'export_json': True,\n",
    "        'copy_images': True\n",
    "    }\n",
    "}\n",
    "\n",
    "# Path to the directory containing HDR images\n",
    "input_dir = \"./hdr_images\"  # Change this to your input directory\n",
    "output_dir = \"./hdr_output\"  # Change this to your output directory\n",
    "\n",
    "# Create output directory if it doesn't exist\n",
    "os.makedirs(output_dir, exist_ok=True)"
   ],
   "id": "a5a1d09f511674ca",
   "outputs": [],
   "execution_count": 4
  },
  {
   "metadata": {},
   "cell_type": "markdown",
   "source": "### Vizualisation helper functions",
   "id": "11fa39a1fdc2e4b6"
  },
  {
   "metadata": {
    "ExecuteTime": {
     "end_time": "2025-04-10T16:48:50.691077Z",
     "start_time": "2025-04-10T16:48:50.675012Z"
    }
   },
   "cell_type": "code",
   "source": [
    "def display_image_pair(original, processed, titles=None):\n",
    "    \"\"\"Display an original image beside its processed version.\"\"\"\n",
    "    if titles is None:\n",
    "        titles = [\"Original Image\", \"Processed Image\"]\n",
    "\n",
    "    fig, axes = plt.subplots(1, 2, figsize=(15, 7))\n",
    "\n",
    "    # Convert BGR to RGB for display\n",
    "    if len(original.shape) == 3 and original.shape[2] == 3:\n",
    "        original_rgb = original[..., ::-1]  # BGR to RGB\n",
    "    else:\n",
    "        original_rgb = original\n",
    "\n",
    "    if len(processed.shape) == 3 and processed.shape[2] == 3:\n",
    "        processed_rgb = processed[..., ::-1]  # BGR to RGB\n",
    "    else:\n",
    "        processed_rgb = processed\n",
    "\n",
    "    # Display images\n",
    "    axes[0].imshow(original_rgb, cmap='gray' if len(original.shape) == 2 else None)\n",
    "    axes[0].set_title(titles[0])\n",
    "    axes[0].axis('off')\n",
    "\n",
    "    axes[1].imshow(processed_rgb, cmap='gray' if len(processed.shape) == 2 else None)\n",
    "    axes[1].set_title(titles[1])\n",
    "    axes[1].axis('off')\n",
    "\n",
    "    plt.tight_layout()\n",
    "    plt.show()\n",
    "\n",
    "def display_cluster_samples(clusters, images_data, max_samples=5, max_clusters=5):\n",
    "    \"\"\"Display sample images from each cluster.\"\"\"\n",
    "    # Filter out noise cluster\n",
    "    valid_clusters = {k: v for k, v in clusters.items() if k != -1}\n",
    "\n",
    "    # Limit number of clusters to display\n",
    "    cluster_ids = list(valid_clusters.keys())[:max_clusters]\n",
    "\n",
    "    for cluster_id in cluster_ids:\n",
    "        print(f\"\\nCluster {cluster_id} - {len(valid_clusters[cluster_id])} images:\")\n",
    "\n",
    "        # Get random samples from this cluster\n",
    "        cluster_items = valid_clusters[cluster_id]\n",
    "        sample_count = min(max_samples, len(cluster_items))\n",
    "        samples = random.sample(cluster_items, sample_count)\n",
    "\n",
    "        # Create a grid for displaying images\n",
    "        fig, axes = plt.subplots(1, sample_count, figsize=(15, 5))\n",
    "        if sample_count == 1:\n",
    "            axes = [axes]  # Ensure axes is always a list\n",
    "\n",
    "        for i, (img_id, confidence) in enumerate(samples):\n",
    "            img_data = next((img for img in images_data if img['id'] == img_id), None)\n",
    "            if img_data:\n",
    "                # Convert BGR to RGB for display\n",
    "                img_rgb = img_data['original_image'][..., ::-1]\n",
    "                axes[i].imshow(img_rgb)\n",
    "                axes[i].set_title(f\"Confidence: {confidence:.2f}\\nEV: {estimate_exposure_value(img_data['original_image']):.1f}\")\n",
    "                axes[i].axis('off')\n",
    "\n",
    "        plt.tight_layout()\n",
    "        plt.show()\n",
    "\n",
    "def display_exposure_sequence(sequence, images_data):\n",
    "    \"\"\"Display a sorted exposure sequence for a cluster.\"\"\"\n",
    "    # Filter out duplicates and accidental shots\n",
    "    valid_sequence = [info for info in sequence if not info.get('is_duplicate', False) and not info.get('is_accidental', False)]\n",
    "\n",
    "    n_images = len(valid_sequence)\n",
    "    if n_images == 0:\n",
    "        print(\"No valid images in sequence\")\n",
    "        return\n",
    "\n",
    "    fig, axes = plt.subplots(1, n_images, figsize=(15, 5))\n",
    "    if n_images == 1:\n",
    "        axes = [axes]  # Ensure axes is always a list\n",
    "\n",
    "    for i, info in enumerate(valid_sequence):\n",
    "        img_id = info['id']\n",
    "        img_data = next((img for img in images_data if img['id'] == img_id), None)\n",
    "        if img_data:\n",
    "            # Convert BGR to RGB for display\n",
    "            img_rgb = img_data['original_image'][..., ::-1]\n",
    "            axes[i].imshow(img_rgb)\n",
    "            axes[i].set_title(f\"EV: {info['ev']:.1f}\")\n",
    "            axes[i].axis('off')\n",
    "\n",
    "    plt.tight_layout()\n",
    "    plt.show()"
   ],
   "id": "9edffbd4d2ebc7c0",
   "outputs": [],
   "execution_count": 5
  },
  {
   "metadata": {},
   "cell_type": "markdown",
   "source": "# Pipeline process",
   "id": "890b1187cc5a1a19"
  },
  {
   "metadata": {},
   "cell_type": "markdown",
   "source": "**Ingest data**",
   "id": "bd16e0cf6ddd315c"
  },
  {
   "metadata": {
    "ExecuteTime": {
     "end_time": "2025-04-10T16:49:55.426049Z",
     "start_time": "2025-04-10T16:49:55.418006Z"
    }
   },
   "cell_type": "code",
   "source": [
    "print(f\"Ingesting images from: {input_dir}\")\n",
    "ingestor = ImageIngestor(**config['ingest'])\n",
    "\n",
    "start_time = time.time()\n",
    "images_data = ingestor.ingest_directory(input_dir)\n",
    "ingest_time = time.time() - start_time\n",
    "\n",
    "print(f\"Ingested {len(images_data)} images in {ingest_time:.2f} seconds\")"
   ],
   "id": "7a14f7f9fb57b392",
   "outputs": [
    {
     "name": "stderr",
     "output_type": "stream",
     "text": [
      "2025-04-10 11:49:55,421 - hdr_grouping.ingest - ERROR - Directory does not exist or is not a directory: ./hdr_images\n"
     ]
    },
    {
     "name": "stdout",
     "output_type": "stream",
     "text": [
      "Ingesting images from: ./hdr_images\n",
      "Ingested 0 images in 0.00 seconds\n"
     ]
    }
   ],
   "execution_count": 6
  },
  {
   "metadata": {},
   "cell_type": "code",
   "outputs": [],
   "execution_count": null,
   "source": "",
   "id": "534339a7c3342aa9"
  }
 ],
 "metadata": {
  "kernelspec": {
   "display_name": "Python 3",
   "language": "python",
   "name": "python3"
  },
  "language_info": {
   "codemirror_mode": {
    "name": "ipython",
    "version": 2
   },
   "file_extension": ".py",
   "mimetype": "text/x-python",
   "name": "python",
   "nbconvert_exporter": "python",
   "pygments_lexer": "ipython2",
   "version": "2.7.6"
  }
 },
 "nbformat": 4,
 "nbformat_minor": 5
}
